{
 "cells": [
  {
   "cell_type": "markdown",
   "metadata": {},
   "source": [
    "### 1) Importing Libraries and our functions"
   ]
  },
  {
   "cell_type": "code",
   "execution_count": 94,
   "metadata": {},
   "outputs": [],
   "source": [
    "import pandas as pd\n",
    "import numpy as np\n",
    "import matplotlib.pyplot as plt\n",
    "import seaborn as sns\n",
    "import string\n",
    "from nltk.tokenize import word_tokenize\n",
    "import nltk\n",
    "# nltk.download('stopwords')\n",
    "from nltk.corpus import stopwords\n",
    "from tensorflow import keras\n",
    "from sklearn.preprocessing import LabelEncoder\n",
    "from sklearn.model_selection import train_test_split\n",
    "from sklearn.metrics import classification_report, confusion_matrix"
   ]
  },
  {
   "cell_type": "markdown",
   "metadata": {},
   "source": [
    "### 2) Reading Data"
   ]
  },
  {
   "cell_type": "code",
   "execution_count": 50,
   "metadata": {},
   "outputs": [
    {
     "data": {
      "text/html": [
       "<div>\n",
       "<style scoped>\n",
       "    .dataframe tbody tr th:only-of-type {\n",
       "        vertical-align: middle;\n",
       "    }\n",
       "\n",
       "    .dataframe tbody tr th {\n",
       "        vertical-align: top;\n",
       "    }\n",
       "\n",
       "    .dataframe thead th {\n",
       "        text-align: right;\n",
       "    }\n",
       "</style>\n",
       "<table border=\"1\" class=\"dataframe\">\n",
       "  <thead>\n",
       "    <tr style=\"text-align: right;\">\n",
       "      <th></th>\n",
       "      <th>link</th>\n",
       "      <th>title</th>\n",
       "      <th>description</th>\n",
       "      <th>category</th>\n",
       "    </tr>\n",
       "  </thead>\n",
       "  <tbody>\n",
       "    <tr>\n",
       "      <th>0</th>\n",
       "      <td>JLZlCZ0</td>\n",
       "      <td>Ep 1| Travelling through North East India | Of...</td>\n",
       "      <td>Tanya Khanijow\\n671K subscribers\\nSUBSCRIBE\\nT...</td>\n",
       "      <td>travel</td>\n",
       "    </tr>\n",
       "    <tr>\n",
       "      <th>1</th>\n",
       "      <td>i9E_Blai8vk</td>\n",
       "      <td>Welcome to Bali | Travel Vlog | Priscilla Lee</td>\n",
       "      <td>Priscilla Lee\\n45.6K subscribers\\nSUBSCRIBE\\n*...</td>\n",
       "      <td>travel</td>\n",
       "    </tr>\n",
       "    <tr>\n",
       "      <th>2</th>\n",
       "      <td>r284c-q8oY</td>\n",
       "      <td>My Solo Trip to ALASKA | Cruising From Vancouv...</td>\n",
       "      <td>Allison Anderson\\n588K subscribers\\nSUBSCRIBE\\...</td>\n",
       "      <td>travel</td>\n",
       "    </tr>\n",
       "    <tr>\n",
       "      <th>3</th>\n",
       "      <td>Qmi-Xwq-ME</td>\n",
       "      <td>Traveling to the Happiest Country in the World!!</td>\n",
       "      <td>Yes Theory\\n6.65M subscribers\\nSUBSCRIBE\\n*BLA...</td>\n",
       "      <td>travel</td>\n",
       "    </tr>\n",
       "    <tr>\n",
       "      <th>4</th>\n",
       "      <td>_lcOX55Ef70</td>\n",
       "      <td>Solo in Paro Bhutan | Tiger's Nest visit | Bhu...</td>\n",
       "      <td>Tanya Khanijow\\n671K subscribers\\nSUBSCRIBE\\nH...</td>\n",
       "      <td>travel</td>\n",
       "    </tr>\n",
       "  </tbody>\n",
       "</table>\n",
       "</div>"
      ],
      "text/plain": [
       "          link                                              title  \\\n",
       "0      JLZlCZ0  Ep 1| Travelling through North East India | Of...   \n",
       "1  i9E_Blai8vk      Welcome to Bali | Travel Vlog | Priscilla Lee   \n",
       "2   r284c-q8oY  My Solo Trip to ALASKA | Cruising From Vancouv...   \n",
       "3   Qmi-Xwq-ME   Traveling to the Happiest Country in the World!!   \n",
       "4  _lcOX55Ef70  Solo in Paro Bhutan | Tiger's Nest visit | Bhu...   \n",
       "\n",
       "                                         description category  \n",
       "0  Tanya Khanijow\\n671K subscribers\\nSUBSCRIBE\\nT...   travel  \n",
       "1  Priscilla Lee\\n45.6K subscribers\\nSUBSCRIBE\\n*...   travel  \n",
       "2  Allison Anderson\\n588K subscribers\\nSUBSCRIBE\\...   travel  \n",
       "3  Yes Theory\\n6.65M subscribers\\nSUBSCRIBE\\n*BLA...   travel  \n",
       "4  Tanya Khanijow\\n671K subscribers\\nSUBSCRIBE\\nH...   travel  "
      ]
     },
     "execution_count": 50,
     "metadata": {},
     "output_type": "execute_result"
    }
   ],
   "source": [
    "data = pd.read_csv('youtube.csv')\n",
    "data.head()"
   ]
  },
  {
   "cell_type": "code",
   "execution_count": 119,
   "metadata": {
    "scrolled": false
   },
   "outputs": [
    {
     "name": "stdout",
     "output_type": "stream",
     "text": [
      "Tanya Khanijow\n",
      "671K subscribers\n",
      "SUBSCRIBE\n",
      "The journey to Arunachal, North East India begins with a train journey from Guwahati to Murkongselek. From here we head to Pasighat. And I and my travel companions are just getting started by exploring the tiny glimpse of Arunachal that we have so far. From markets to bridges, the adventure will only get better from here. :)\n",
      "\n",
      "Next Video: \n",
      "SHOW MORE\n"
     ]
    }
   ],
   "source": [
    "print(data.description[0])"
   ]
  },
  {
   "cell_type": "markdown",
   "metadata": {},
   "source": [
    "we can see that the first string is the description is the channel name , and second string is number of subscribers and the third string is \"SUBSCRIBE\" , these are not informative at all so let's delte it "
   ]
  },
  {
   "cell_type": "code",
   "execution_count": 141,
   "metadata": {},
   "outputs": [],
   "source": [
    "def removeNotInformative(text):\n",
    "    text = text.split(\"\\n\")\n",
    "    return \" \".join(text[3:])"
   ]
  },
  {
   "cell_type": "code",
   "execution_count": 143,
   "metadata": {},
   "outputs": [],
   "source": [
    "data['description'] = data['description'].apply(removeNotInformative)"
   ]
  },
  {
   "cell_type": "code",
   "execution_count": 178,
   "metadata": {},
   "outputs": [
    {
     "name": "stdout",
     "output_type": "stream",
     "text": [
      "The journey to Arunachal, North East India begins with a train journey from Guwahati to Murkongselek. From here we head to Pasighat. And I and my travel companions are just getting started by exploring the tiny glimpse of Arunachal that we have so far. From markets to bridges, the adventure will only get better from here. :)  Next Video:  SHOW MORE\n"
     ]
    }
   ],
   "source": [
    "print(data.description[0])"
   ]
  },
  {
   "cell_type": "code",
   "execution_count": 144,
   "metadata": {},
   "outputs": [
    {
     "data": {
      "text/plain": [
       "(3599, 8)"
      ]
     },
     "execution_count": 144,
     "metadata": {},
     "output_type": "execute_result"
    }
   ],
   "source": [
    "data.shape"
   ]
  },
  {
   "cell_type": "code",
   "execution_count": 145,
   "metadata": {},
   "outputs": [
    {
     "data": {
      "text/plain": [
       "link                    0\n",
       "title                   0\n",
       "description             0\n",
       "category                0\n",
       "descriptionNonePunct    0\n",
       "descriptionTokenized    0\n",
       "descriptionNoneSW       0\n",
       "textSequence            0\n",
       "dtype: int64"
      ]
     },
     "execution_count": 145,
     "metadata": {},
     "output_type": "execute_result"
    }
   ],
   "source": [
    "# getting count of null values\n",
    "data.isnull().sum()"
   ]
  },
  {
   "cell_type": "code",
   "execution_count": 146,
   "metadata": {},
   "outputs": [
    {
     "data": {
      "text/plain": [
       "array(['travel', 'food', 'art_music', 'history'], dtype=object)"
      ]
     },
     "execution_count": 146,
     "metadata": {},
     "output_type": "execute_result"
    }
   ],
   "source": [
    "# getting unqiue values of \"category\" Column\n",
    "data['category'].unique()"
   ]
  },
  {
   "cell_type": "code",
   "execution_count": 190,
   "metadata": {},
   "outputs": [
    {
     "data": {
      "text/plain": [
       "([<matplotlib.patches.Wedge at 0x15000988408>,\n",
       "  <matplotlib.patches.Wedge at 0x15002665848>,\n",
       "  <matplotlib.patches.Wedge at 0x1500248ccc8>,\n",
       "  <matplotlib.patches.Wedge at 0x1500248c788>],\n",
       " [Text(0.5859029516462471, 0.9309767619292201, 'travel'),\n",
       "  Text(-1.0519087207659485, 0.32169557531390747, 'art_music'),\n",
       "  Text(-0.2750280330615155, -1.0650631817081624, 'food'),\n",
       "  Text(0.9558916970343715, -0.5443078756923784, 'history')])"
      ]
     },
     "execution_count": 190,
     "metadata": {},
     "output_type": "execute_result"
    },
    {
     "data": {
      "image/png": "[encoded data removed]",
      "text/plain": [
       "<Figure size 864x576 with 1 Axes>"
      ]
     },
     "metadata": {},
     "output_type": "display_data"
    }
   ],
   "source": [
    "category_valueCounts=data['category'].value_counts()\n",
    "plt.figure(figsize=(12,8))\n",
    "plt.pie(category_valueCounts , labels=category_valueCounts.index)\n"
   ]
  },
  {
   "cell_type": "markdown",
   "metadata": {},
   "source": [
    "### 3) Data Processing"
   ]
  },
  {
   "cell_type": "markdown",
   "metadata": {},
   "source": [
    "##### 1) Remove Punctuation"
   ]
  },
  {
   "cell_type": "code",
   "execution_count": 148,
   "metadata": {},
   "outputs": [
    {
     "data": {
      "text/plain": [
       "'!\"#$%&\\'()*+,-./:;<=>?@[\\\\]^_`{|}~'"
      ]
     },
     "execution_count": 148,
     "metadata": {},
     "output_type": "execute_result"
    }
   ],
   "source": [
    "punctuation = string.punctuation\n",
    "punctuation"
   ]
  },
  {
   "cell_type": "code",
   "execution_count": 149,
   "metadata": {},
   "outputs": [],
   "source": [
    "def removePunctuationFromText(text):\n",
    "    text = ''.join([char for char in text if char not in punctuation])\n",
    "    return text"
   ]
  },
  {
   "cell_type": "code",
   "execution_count": 150,
   "metadata": {},
   "outputs": [],
   "source": [
    "data['descriptionNonePunct'] = data['description'].apply(removePunctuationFromText)"
   ]
  },
  {
   "cell_type": "code",
   "execution_count": 151,
   "metadata": {},
   "outputs": [
    {
     "data": {
      "text/html": [
       "<div>\n",
       "<style scoped>\n",
       "    .dataframe tbody tr th:only-of-type {\n",
       "        vertical-align: middle;\n",
       "    }\n",
       "\n",
       "    .dataframe tbody tr th {\n",
       "        vertical-align: top;\n",
       "    }\n",
       "\n",
       "    .dataframe thead th {\n",
       "        text-align: right;\n",
       "    }\n",
       "</style>\n",
       "<table border=\"1\" class=\"dataframe\">\n",
       "  <thead>\n",
       "    <tr style=\"text-align: right;\">\n",
       "      <th></th>\n",
       "      <th>link</th>\n",
       "      <th>title</th>\n",
       "      <th>description</th>\n",
       "      <th>category</th>\n",
       "      <th>descriptionNonePunct</th>\n",
       "      <th>descriptionTokenized</th>\n",
       "      <th>descriptionNoneSW</th>\n",
       "      <th>textSequence</th>\n",
       "    </tr>\n",
       "  </thead>\n",
       "  <tbody>\n",
       "    <tr>\n",
       "      <th>0</th>\n",
       "      <td>JLZlCZ0</td>\n",
       "      <td>Ep 1| Travelling through North East India | Of...</td>\n",
       "      <td>The journey to Arunachal, North East India beg...</td>\n",
       "      <td>travel</td>\n",
       "      <td>The journey to Arunachal North East India begi...</td>\n",
       "      <td>[Tanya, Khanijow, 671K, subscribers, SUBSCRIBE...</td>\n",
       "      <td>[Tanya, Khanijow, 671K, subscribers, SUBSCRIBE...</td>\n",
       "      <td>[1571, 1676, 1486, 4, 1, 14, 303, 4547, 286, 2...</td>\n",
       "    </tr>\n",
       "    <tr>\n",
       "      <th>1</th>\n",
       "      <td>i9E_Blai8vk</td>\n",
       "      <td>Welcome to Bali | Travel Vlog | Priscilla Lee</td>\n",
       "      <td>*DISCLAIMER* Please do not ride elephants when...</td>\n",
       "      <td>travel</td>\n",
       "      <td>DISCLAIMER Please do not ride elephants when v...</td>\n",
       "      <td>[Priscilla, Lee, 456K, subscribers, SUBSCRIBE,...</td>\n",
       "      <td>[Priscilla, Lee, 456K, subscribers, SUBSCRIBE,...</td>\n",
       "      <td>[7459, 353, 2243, 4, 1, 923, 33, 1487, 2997, 6...</td>\n",
       "    </tr>\n",
       "    <tr>\n",
       "      <th>2</th>\n",
       "      <td>r284c-q8oY</td>\n",
       "      <td>My Solo Trip to ALASKA | Cruising From Vancouv...</td>\n",
       "      <td>I spent 11 days cruising up the coast of Alask...</td>\n",
       "      <td>travel</td>\n",
       "      <td>I spent 11 days cruising up the coast of Alask...</td>\n",
       "      <td>[Allison, Anderson, 588K, subscribers, SUBSCRI...</td>\n",
       "      <td>[Allison, Anderson, 588K, subscribers, SUBSCRI...</td>\n",
       "      <td>[5642, 2707, 5643, 4, 1, 7, 631, 722, 251, 746...</td>\n",
       "    </tr>\n",
       "    <tr>\n",
       "      <th>3</th>\n",
       "      <td>Qmi-Xwq-ME</td>\n",
       "      <td>Traveling to the Happiest Country in the World!!</td>\n",
       "      <td>*BLACK FRIDAY DROP Out Now*: http://seek-disco...</td>\n",
       "      <td>travel</td>\n",
       "      <td>BLACK FRIDAY DROP Out Now httpseekdiscomfortco...</td>\n",
       "      <td>[Yes, Theory, 665M, subscribers, SUBSCRIBE, BL...</td>\n",
       "      <td>[Yes, Theory, 665M, subscribers, SUBSCRIBE, BL...</td>\n",
       "      <td>[966, 2057, 2999, 4, 1, 549, 1922, 1572, 1056,...</td>\n",
       "    </tr>\n",
       "    <tr>\n",
       "      <th>4</th>\n",
       "      <td>_lcOX55Ef70</td>\n",
       "      <td>Solo in Paro Bhutan | Tiger's Nest visit | Bhu...</td>\n",
       "      <td>Here’s presenting the first part of the Bhutan...</td>\n",
       "      <td>travel</td>\n",
       "      <td>Here’s presenting the first part of the Bhutan...</td>\n",
       "      <td>[Tanya, Khanijow, 671K, subscribers, SUBSCRIBE...</td>\n",
       "      <td>[Tanya, Khanijow, 671K, subscribers, SUBSCRIBE...</td>\n",
       "      <td>[1571, 1676, 1486, 4, 1, 132, 24, 668, 47, 134...</td>\n",
       "    </tr>\n",
       "  </tbody>\n",
       "</table>\n",
       "</div>"
      ],
      "text/plain": [
       "          link                                              title  \\\n",
       "0      JLZlCZ0  Ep 1| Travelling through North East India | Of...   \n",
       "1  i9E_Blai8vk      Welcome to Bali | Travel Vlog | Priscilla Lee   \n",
       "2   r284c-q8oY  My Solo Trip to ALASKA | Cruising From Vancouv...   \n",
       "3   Qmi-Xwq-ME   Traveling to the Happiest Country in the World!!   \n",
       "4  _lcOX55Ef70  Solo in Paro Bhutan | Tiger's Nest visit | Bhu...   \n",
       "\n",
       "                                         description category  \\\n",
       "0  The journey to Arunachal, North East India beg...   travel   \n",
       "1  *DISCLAIMER* Please do not ride elephants when...   travel   \n",
       "2  I spent 11 days cruising up the coast of Alask...   travel   \n",
       "3  *BLACK FRIDAY DROP Out Now*: http://seek-disco...   travel   \n",
       "4  Here’s presenting the first part of the Bhutan...   travel   \n",
       "\n",
       "                                descriptionNonePunct  \\\n",
       "0  The journey to Arunachal North East India begi...   \n",
       "1  DISCLAIMER Please do not ride elephants when v...   \n",
       "2  I spent 11 days cruising up the coast of Alask...   \n",
       "3  BLACK FRIDAY DROP Out Now httpseekdiscomfortco...   \n",
       "4  Here’s presenting the first part of the Bhutan...   \n",
       "\n",
       "                                descriptionTokenized  \\\n",
       "0  [Tanya, Khanijow, 671K, subscribers, SUBSCRIBE...   \n",
       "1  [Priscilla, Lee, 456K, subscribers, SUBSCRIBE,...   \n",
       "2  [Allison, Anderson, 588K, subscribers, SUBSCRI...   \n",
       "3  [Yes, Theory, 665M, subscribers, SUBSCRIBE, BL...   \n",
       "4  [Tanya, Khanijow, 671K, subscribers, SUBSCRIBE...   \n",
       "\n",
       "                                   descriptionNoneSW  \\\n",
       "0  [Tanya, Khanijow, 671K, subscribers, SUBSCRIBE...   \n",
       "1  [Priscilla, Lee, 456K, subscribers, SUBSCRIBE,...   \n",
       "2  [Allison, Anderson, 588K, subscribers, SUBSCRI...   \n",
       "3  [Yes, Theory, 665M, subscribers, SUBSCRIBE, BL...   \n",
       "4  [Tanya, Khanijow, 671K, subscribers, SUBSCRIBE...   \n",
       "\n",
       "                                        textSequence  \n",
       "0  [1571, 1676, 1486, 4, 1, 14, 303, 4547, 286, 2...  \n",
       "1  [7459, 353, 2243, 4, 1, 923, 33, 1487, 2997, 6...  \n",
       "2  [5642, 2707, 5643, 4, 1, 7, 631, 722, 251, 746...  \n",
       "3  [966, 2057, 2999, 4, 1, 549, 1922, 1572, 1056,...  \n",
       "4  [1571, 1676, 1486, 4, 1, 132, 24, 668, 47, 134...  "
      ]
     },
     "execution_count": 151,
     "metadata": {},
     "output_type": "execute_result"
    }
   ],
   "source": [
    "data.head()"
   ]
  },
  {
   "cell_type": "markdown",
   "metadata": {},
   "source": [
    "##### 2) Tokenize words"
   ]
  },
  {
   "cell_type": "code",
   "execution_count": 152,
   "metadata": {},
   "outputs": [],
   "source": [
    "## tokenize words \n",
    "data['descriptionTokenized'] = data['descriptionNonePunct'].apply(word_tokenize)"
   ]
  },
  {
   "cell_type": "code",
   "execution_count": 153,
   "metadata": {},
   "outputs": [
    {
     "data": {
      "text/html": [
       "<div>\n",
       "<style scoped>\n",
       "    .dataframe tbody tr th:only-of-type {\n",
       "        vertical-align: middle;\n",
       "    }\n",
       "\n",
       "    .dataframe tbody tr th {\n",
       "        vertical-align: top;\n",
       "    }\n",
       "\n",
       "    .dataframe thead th {\n",
       "        text-align: right;\n",
       "    }\n",
       "</style>\n",
       "<table border=\"1\" class=\"dataframe\">\n",
       "  <thead>\n",
       "    <tr style=\"text-align: right;\">\n",
       "      <th></th>\n",
       "      <th>link</th>\n",
       "      <th>title</th>\n",
       "      <th>description</th>\n",
       "      <th>category</th>\n",
       "      <th>descriptionNonePunct</th>\n",
       "      <th>descriptionTokenized</th>\n",
       "      <th>descriptionNoneSW</th>\n",
       "      <th>textSequence</th>\n",
       "    </tr>\n",
       "  </thead>\n",
       "  <tbody>\n",
       "    <tr>\n",
       "      <th>0</th>\n",
       "      <td>JLZlCZ0</td>\n",
       "      <td>Ep 1| Travelling through North East India | Of...</td>\n",
       "      <td>The journey to Arunachal, North East India beg...</td>\n",
       "      <td>travel</td>\n",
       "      <td>The journey to Arunachal North East India begi...</td>\n",
       "      <td>[The, journey, to, Arunachal, North, East, Ind...</td>\n",
       "      <td>[Tanya, Khanijow, 671K, subscribers, SUBSCRIBE...</td>\n",
       "      <td>[1571, 1676, 1486, 4, 1, 14, 303, 4547, 286, 2...</td>\n",
       "    </tr>\n",
       "    <tr>\n",
       "      <th>1</th>\n",
       "      <td>i9E_Blai8vk</td>\n",
       "      <td>Welcome to Bali | Travel Vlog | Priscilla Lee</td>\n",
       "      <td>*DISCLAIMER* Please do not ride elephants when...</td>\n",
       "      <td>travel</td>\n",
       "      <td>DISCLAIMER Please do not ride elephants when v...</td>\n",
       "      <td>[DISCLAIMER, Please, do, not, ride, elephants,...</td>\n",
       "      <td>[Priscilla, Lee, 456K, subscribers, SUBSCRIBE,...</td>\n",
       "      <td>[7459, 353, 2243, 4, 1, 923, 33, 1487, 2997, 6...</td>\n",
       "    </tr>\n",
       "    <tr>\n",
       "      <th>2</th>\n",
       "      <td>r284c-q8oY</td>\n",
       "      <td>My Solo Trip to ALASKA | Cruising From Vancouv...</td>\n",
       "      <td>I spent 11 days cruising up the coast of Alask...</td>\n",
       "      <td>travel</td>\n",
       "      <td>I spent 11 days cruising up the coast of Alask...</td>\n",
       "      <td>[I, spent, 11, days, cruising, up, the, coast,...</td>\n",
       "      <td>[Allison, Anderson, 588K, subscribers, SUBSCRI...</td>\n",
       "      <td>[5642, 2707, 5643, 4, 1, 7, 631, 722, 251, 746...</td>\n",
       "    </tr>\n",
       "    <tr>\n",
       "      <th>3</th>\n",
       "      <td>Qmi-Xwq-ME</td>\n",
       "      <td>Traveling to the Happiest Country in the World!!</td>\n",
       "      <td>*BLACK FRIDAY DROP Out Now*: http://seek-disco...</td>\n",
       "      <td>travel</td>\n",
       "      <td>BLACK FRIDAY DROP Out Now httpseekdiscomfortco...</td>\n",
       "      <td>[BLACK, FRIDAY, DROP, Out, Now, httpseekdiscom...</td>\n",
       "      <td>[Yes, Theory, 665M, subscribers, SUBSCRIBE, BL...</td>\n",
       "      <td>[966, 2057, 2999, 4, 1, 549, 1922, 1572, 1056,...</td>\n",
       "    </tr>\n",
       "    <tr>\n",
       "      <th>4</th>\n",
       "      <td>_lcOX55Ef70</td>\n",
       "      <td>Solo in Paro Bhutan | Tiger's Nest visit | Bhu...</td>\n",
       "      <td>Here’s presenting the first part of the Bhutan...</td>\n",
       "      <td>travel</td>\n",
       "      <td>Here’s presenting the first part of the Bhutan...</td>\n",
       "      <td>[Here, ’, s, presenting, the, first, part, of,...</td>\n",
       "      <td>[Tanya, Khanijow, 671K, subscribers, SUBSCRIBE...</td>\n",
       "      <td>[1571, 1676, 1486, 4, 1, 132, 24, 668, 47, 134...</td>\n",
       "    </tr>\n",
       "  </tbody>\n",
       "</table>\n",
       "</div>"
      ],
      "text/plain": [
       "          link                                              title  \\\n",
       "0      JLZlCZ0  Ep 1| Travelling through North East India | Of...   \n",
       "1  i9E_Blai8vk      Welcome to Bali | Travel Vlog | Priscilla Lee   \n",
       "2   r284c-q8oY  My Solo Trip to ALASKA | Cruising From Vancouv...   \n",
       "3   Qmi-Xwq-ME   Traveling to the Happiest Country in the World!!   \n",
       "4  _lcOX55Ef70  Solo in Paro Bhutan | Tiger's Nest visit | Bhu...   \n",
       "\n",
       "                                         description category  \\\n",
       "0  The journey to Arunachal, North East India beg...   travel   \n",
       "1  *DISCLAIMER* Please do not ride elephants when...   travel   \n",
       "2  I spent 11 days cruising up the coast of Alask...   travel   \n",
       "3  *BLACK FRIDAY DROP Out Now*: http://seek-disco...   travel   \n",
       "4  Here’s presenting the first part of the Bhutan...   travel   \n",
       "\n",
       "                                descriptionNonePunct  \\\n",
       "0  The journey to Arunachal North East India begi...   \n",
       "1  DISCLAIMER Please do not ride elephants when v...   \n",
       "2  I spent 11 days cruising up the coast of Alask...   \n",
       "3  BLACK FRIDAY DROP Out Now httpseekdiscomfortco...   \n",
       "4  Here’s presenting the first part of the Bhutan...   \n",
       "\n",
       "                                descriptionTokenized  \\\n",
       "0  [The, journey, to, Arunachal, North, East, Ind...   \n",
       "1  [DISCLAIMER, Please, do, not, ride, elephants,...   \n",
       "2  [I, spent, 11, days, cruising, up, the, coast,...   \n",
       "3  [BLACK, FRIDAY, DROP, Out, Now, httpseekdiscom...   \n",
       "4  [Here, ’, s, presenting, the, first, part, of,...   \n",
       "\n",
       "                                   descriptionNoneSW  \\\n",
       "0  [Tanya, Khanijow, 671K, subscribers, SUBSCRIBE...   \n",
       "1  [Priscilla, Lee, 456K, subscribers, SUBSCRIBE,...   \n",
       "2  [Allison, Anderson, 588K, subscribers, SUBSCRI...   \n",
       "3  [Yes, Theory, 665M, subscribers, SUBSCRIBE, BL...   \n",
       "4  [Tanya, Khanijow, 671K, subscribers, SUBSCRIBE...   \n",
       "\n",
       "                                        textSequence  \n",
       "0  [1571, 1676, 1486, 4, 1, 14, 303, 4547, 286, 2...  \n",
       "1  [7459, 353, 2243, 4, 1, 923, 33, 1487, 2997, 6...  \n",
       "2  [5642, 2707, 5643, 4, 1, 7, 631, 722, 251, 746...  \n",
       "3  [966, 2057, 2999, 4, 1, 549, 1922, 1572, 1056,...  \n",
       "4  [1571, 1676, 1486, 4, 1, 132, 24, 668, 47, 134...  "
      ]
     },
     "execution_count": 153,
     "metadata": {},
     "output_type": "execute_result"
    }
   ],
   "source": [
    "data.head()"
   ]
  },
  {
   "cell_type": "markdown",
   "metadata": {},
   "source": [
    "##### 3) Remove stopwords"
   ]
  },
  {
   "cell_type": "code",
   "execution_count": 154,
   "metadata": {
    "scrolled": true
   },
   "outputs": [
    {
     "data": {
      "text/plain": [
       "['i', 'me', 'my', 'myself', 'we', 'our', 'ours', 'ourselves', 'you', \"you're\"]"
      ]
     },
     "execution_count": 154,
     "metadata": {},
     "output_type": "execute_result"
    }
   ],
   "source": [
    "stopWords = stopwords.words('english')\n",
    "stopWords[:10]"
   ]
  },
  {
   "cell_type": "code",
   "execution_count": 155,
   "metadata": {},
   "outputs": [],
   "source": [
    "def removeStopWords(text):\n",
    "    return [word for word in text if word not in stopWords]"
   ]
  },
  {
   "cell_type": "code",
   "execution_count": 156,
   "metadata": {},
   "outputs": [],
   "source": [
    "data['descriptionNoneSW'] =data['descriptionTokenized'].apply(removeStopWords)"
   ]
  },
  {
   "cell_type": "code",
   "execution_count": 157,
   "metadata": {},
   "outputs": [
    {
     "data": {
      "text/html": [
       "<div>\n",
       "<style scoped>\n",
       "    .dataframe tbody tr th:only-of-type {\n",
       "        vertical-align: middle;\n",
       "    }\n",
       "\n",
       "    .dataframe tbody tr th {\n",
       "        vertical-align: top;\n",
       "    }\n",
       "\n",
       "    .dataframe thead th {\n",
       "        text-align: right;\n",
       "    }\n",
       "</style>\n",
       "<table border=\"1\" class=\"dataframe\">\n",
       "  <thead>\n",
       "    <tr style=\"text-align: right;\">\n",
       "      <th></th>\n",
       "      <th>link</th>\n",
       "      <th>title</th>\n",
       "      <th>description</th>\n",
       "      <th>category</th>\n",
       "      <th>descriptionNonePunct</th>\n",
       "      <th>descriptionTokenized</th>\n",
       "      <th>descriptionNoneSW</th>\n",
       "      <th>textSequence</th>\n",
       "    </tr>\n",
       "  </thead>\n",
       "  <tbody>\n",
       "    <tr>\n",
       "      <th>0</th>\n",
       "      <td>JLZlCZ0</td>\n",
       "      <td>Ep 1| Travelling through North East India | Of...</td>\n",
       "      <td>The journey to Arunachal, North East India beg...</td>\n",
       "      <td>travel</td>\n",
       "      <td>The journey to Arunachal North East India begi...</td>\n",
       "      <td>[The, journey, to, Arunachal, North, East, Ind...</td>\n",
       "      <td>[The, journey, Arunachal, North, East, India, ...</td>\n",
       "      <td>[1571, 1676, 1486, 4, 1, 14, 303, 4547, 286, 2...</td>\n",
       "    </tr>\n",
       "    <tr>\n",
       "      <th>1</th>\n",
       "      <td>i9E_Blai8vk</td>\n",
       "      <td>Welcome to Bali | Travel Vlog | Priscilla Lee</td>\n",
       "      <td>*DISCLAIMER* Please do not ride elephants when...</td>\n",
       "      <td>travel</td>\n",
       "      <td>DISCLAIMER Please do not ride elephants when v...</td>\n",
       "      <td>[DISCLAIMER, Please, do, not, ride, elephants,...</td>\n",
       "      <td>[DISCLAIMER, Please, ride, elephants, visiting...</td>\n",
       "      <td>[7459, 353, 2243, 4, 1, 923, 33, 1487, 2997, 6...</td>\n",
       "    </tr>\n",
       "    <tr>\n",
       "      <th>2</th>\n",
       "      <td>r284c-q8oY</td>\n",
       "      <td>My Solo Trip to ALASKA | Cruising From Vancouv...</td>\n",
       "      <td>I spent 11 days cruising up the coast of Alask...</td>\n",
       "      <td>travel</td>\n",
       "      <td>I spent 11 days cruising up the coast of Alask...</td>\n",
       "      <td>[I, spent, 11, days, cruising, up, the, coast,...</td>\n",
       "      <td>[I, spent, 11, days, cruising, coast, Alaska, ...</td>\n",
       "      <td>[5642, 2707, 5643, 4, 1, 7, 631, 722, 251, 746...</td>\n",
       "    </tr>\n",
       "    <tr>\n",
       "      <th>3</th>\n",
       "      <td>Qmi-Xwq-ME</td>\n",
       "      <td>Traveling to the Happiest Country in the World!!</td>\n",
       "      <td>*BLACK FRIDAY DROP Out Now*: http://seek-disco...</td>\n",
       "      <td>travel</td>\n",
       "      <td>BLACK FRIDAY DROP Out Now httpseekdiscomfortco...</td>\n",
       "      <td>[BLACK, FRIDAY, DROP, Out, Now, httpseekdiscom...</td>\n",
       "      <td>[BLACK, FRIDAY, DROP, Out, Now, httpseekdiscom...</td>\n",
       "      <td>[966, 2057, 2999, 4, 1, 549, 1922, 1572, 1056,...</td>\n",
       "    </tr>\n",
       "    <tr>\n",
       "      <th>4</th>\n",
       "      <td>_lcOX55Ef70</td>\n",
       "      <td>Solo in Paro Bhutan | Tiger's Nest visit | Bhu...</td>\n",
       "      <td>Here’s presenting the first part of the Bhutan...</td>\n",
       "      <td>travel</td>\n",
       "      <td>Here’s presenting the first part of the Bhutan...</td>\n",
       "      <td>[Here, ’, s, presenting, the, first, part, of,...</td>\n",
       "      <td>[Here, ’, presenting, first, part, Bhutan, Ser...</td>\n",
       "      <td>[1571, 1676, 1486, 4, 1, 132, 24, 668, 47, 134...</td>\n",
       "    </tr>\n",
       "  </tbody>\n",
       "</table>\n",
       "</div>"
      ],
      "text/plain": [
       "          link                                              title  \\\n",
       "0      JLZlCZ0  Ep 1| Travelling through North East India | Of...   \n",
       "1  i9E_Blai8vk      Welcome to Bali | Travel Vlog | Priscilla Lee   \n",
       "2   r284c-q8oY  My Solo Trip to ALASKA | Cruising From Vancouv...   \n",
       "3   Qmi-Xwq-ME   Traveling to the Happiest Country in the World!!   \n",
       "4  _lcOX55Ef70  Solo in Paro Bhutan | Tiger's Nest visit | Bhu...   \n",
       "\n",
       "                                         description category  \\\n",
       "0  The journey to Arunachal, North East India beg...   travel   \n",
       "1  *DISCLAIMER* Please do not ride elephants when...   travel   \n",
       "2  I spent 11 days cruising up the coast of Alask...   travel   \n",
       "3  *BLACK FRIDAY DROP Out Now*: http://seek-disco...   travel   \n",
       "4  Here’s presenting the first part of the Bhutan...   travel   \n",
       "\n",
       "                                descriptionNonePunct  \\\n",
       "0  The journey to Arunachal North East India begi...   \n",
       "1  DISCLAIMER Please do not ride elephants when v...   \n",
       "2  I spent 11 days cruising up the coast of Alask...   \n",
       "3  BLACK FRIDAY DROP Out Now httpseekdiscomfortco...   \n",
       "4  Here’s presenting the first part of the Bhutan...   \n",
       "\n",
       "                                descriptionTokenized  \\\n",
       "0  [The, journey, to, Arunachal, North, East, Ind...   \n",
       "1  [DISCLAIMER, Please, do, not, ride, elephants,...   \n",
       "2  [I, spent, 11, days, cruising, up, the, coast,...   \n",
       "3  [BLACK, FRIDAY, DROP, Out, Now, httpseekdiscom...   \n",
       "4  [Here, ’, s, presenting, the, first, part, of,...   \n",
       "\n",
       "                                   descriptionNoneSW  \\\n",
       "0  [The, journey, Arunachal, North, East, India, ...   \n",
       "1  [DISCLAIMER, Please, ride, elephants, visiting...   \n",
       "2  [I, spent, 11, days, cruising, coast, Alaska, ...   \n",
       "3  [BLACK, FRIDAY, DROP, Out, Now, httpseekdiscom...   \n",
       "4  [Here, ’, presenting, first, part, Bhutan, Ser...   \n",
       "\n",
       "                                        textSequence  \n",
       "0  [1571, 1676, 1486, 4, 1, 14, 303, 4547, 286, 2...  \n",
       "1  [7459, 353, 2243, 4, 1, 923, 33, 1487, 2997, 6...  \n",
       "2  [5642, 2707, 5643, 4, 1, 7, 631, 722, 251, 746...  \n",
       "3  [966, 2057, 2999, 4, 1, 549, 1922, 1572, 1056,...  \n",
       "4  [1571, 1676, 1486, 4, 1, 132, 24, 668, 47, 134...  "
      ]
     },
     "execution_count": 157,
     "metadata": {},
     "output_type": "execute_result"
    }
   ],
   "source": [
    "data.head()"
   ]
  },
  {
   "cell_type": "markdown",
   "metadata": {},
   "source": [
    "##### 4) Text to Squence"
   ]
  },
  {
   "cell_type": "code",
   "execution_count": 158,
   "metadata": {},
   "outputs": [],
   "source": [
    "tokenizer = keras.preprocessing.text.Tokenizer()\n",
    "tokenizer.fit_on_texts(data['descriptionNoneSW'])\n",
    "data['textSequence'] = tokenizer.texts_to_sequences(data['descriptionNoneSW'])"
   ]
  },
  {
   "cell_type": "code",
   "execution_count": 159,
   "metadata": {},
   "outputs": [
    {
     "data": {
      "text/html": [
       "<div>\n",
       "<style scoped>\n",
       "    .dataframe tbody tr th:only-of-type {\n",
       "        vertical-align: middle;\n",
       "    }\n",
       "\n",
       "    .dataframe tbody tr th {\n",
       "        vertical-align: top;\n",
       "    }\n",
       "\n",
       "    .dataframe thead th {\n",
       "        text-align: right;\n",
       "    }\n",
       "</style>\n",
       "<table border=\"1\" class=\"dataframe\">\n",
       "  <thead>\n",
       "    <tr style=\"text-align: right;\">\n",
       "      <th></th>\n",
       "      <th>link</th>\n",
       "      <th>title</th>\n",
       "      <th>description</th>\n",
       "      <th>category</th>\n",
       "      <th>descriptionNonePunct</th>\n",
       "      <th>descriptionTokenized</th>\n",
       "      <th>descriptionNoneSW</th>\n",
       "      <th>textSequence</th>\n",
       "    </tr>\n",
       "  </thead>\n",
       "  <tbody>\n",
       "    <tr>\n",
       "      <th>0</th>\n",
       "      <td>JLZlCZ0</td>\n",
       "      <td>Ep 1| Travelling through North East India | Of...</td>\n",
       "      <td>The journey to Arunachal, North East India beg...</td>\n",
       "      <td>travel</td>\n",
       "      <td>The journey to Arunachal North East India begi...</td>\n",
       "      <td>[The, journey, to, Arunachal, North, East, Ind...</td>\n",
       "      <td>[The, journey, Arunachal, North, East, India, ...</td>\n",
       "      <td>[12, 282, 4080, 278, 257, 27, 2471, 732, 282, ...</td>\n",
       "    </tr>\n",
       "    <tr>\n",
       "      <th>1</th>\n",
       "      <td>i9E_Blai8vk</td>\n",
       "      <td>Welcome to Bali | Travel Vlog | Priscilla Lee</td>\n",
       "      <td>*DISCLAIMER* Please do not ride elephants when...</td>\n",
       "      <td>travel</td>\n",
       "      <td>DISCLAIMER Please do not ride elephants when v...</td>\n",
       "      <td>[DISCLAIMER, Please, do, not, ride, elephants,...</td>\n",
       "      <td>[DISCLAIMER, Please, ride, elephants, visiting...</td>\n",
       "      <td>[841, 26, 1429, 2728, 629, 174, 493, 28, 4, 78...</td>\n",
       "    </tr>\n",
       "    <tr>\n",
       "      <th>2</th>\n",
       "      <td>r284c-q8oY</td>\n",
       "      <td>My Solo Trip to ALASKA | Cruising From Vancouv...</td>\n",
       "      <td>I spent 11 days cruising up the coast of Alask...</td>\n",
       "      <td>travel</td>\n",
       "      <td>I spent 11 days cruising up the coast of Alask...</td>\n",
       "      <td>[I, spent, 11, days, cruising, up, the, coast,...</td>\n",
       "      <td>[I, spent, 11, days, cruising, coast, Alaska, ...</td>\n",
       "      <td>[4, 589, 734, 238, 6621, 1650, 1774, 1651, 101...</td>\n",
       "    </tr>\n",
       "    <tr>\n",
       "      <th>3</th>\n",
       "      <td>Qmi-Xwq-ME</td>\n",
       "      <td>Traveling to the Happiest Country in the World!!</td>\n",
       "      <td>*BLACK FRIDAY DROP Out Now*: http://seek-disco...</td>\n",
       "      <td>travel</td>\n",
       "      <td>BLACK FRIDAY DROP Out Now httpseekdiscomfortco...</td>\n",
       "      <td>[BLACK, FRIDAY, DROP, Out, Now, httpseekdiscom...</td>\n",
       "      <td>[BLACK, FRIDAY, DROP, Out, Now, httpseekdiscom...</td>\n",
       "      <td>[511, 1775, 1431, 1043, 240, 5039, 22, 184, 13...</td>\n",
       "    </tr>\n",
       "    <tr>\n",
       "      <th>4</th>\n",
       "      <td>_lcOX55Ef70</td>\n",
       "      <td>Solo in Paro Bhutan | Tiger's Nest visit | Bhu...</td>\n",
       "      <td>Here’s presenting the first part of the Bhutan...</td>\n",
       "      <td>travel</td>\n",
       "      <td>Here’s presenting the first part of the Bhutan...</td>\n",
       "      <td>[Here, ’, s, presenting, the, first, part, of,...</td>\n",
       "      <td>[Here, ’, presenting, first, part, Bhutan, Ser...</td>\n",
       "      <td>[126, 20, 605, 37, 124, 4082, 151, 180, 4083, ...</td>\n",
       "    </tr>\n",
       "  </tbody>\n",
       "</table>\n",
       "</div>"
      ],
      "text/plain": [
       "          link                                              title  \\\n",
       "0      JLZlCZ0  Ep 1| Travelling through North East India | Of...   \n",
       "1  i9E_Blai8vk      Welcome to Bali | Travel Vlog | Priscilla Lee   \n",
       "2   r284c-q8oY  My Solo Trip to ALASKA | Cruising From Vancouv...   \n",
       "3   Qmi-Xwq-ME   Traveling to the Happiest Country in the World!!   \n",
       "4  _lcOX55Ef70  Solo in Paro Bhutan | Tiger's Nest visit | Bhu...   \n",
       "\n",
       "                                         description category  \\\n",
       "0  The journey to Arunachal, North East India beg...   travel   \n",
       "1  *DISCLAIMER* Please do not ride elephants when...   travel   \n",
       "2  I spent 11 days cruising up the coast of Alask...   travel   \n",
       "3  *BLACK FRIDAY DROP Out Now*: http://seek-disco...   travel   \n",
       "4  Here’s presenting the first part of the Bhutan...   travel   \n",
       "\n",
       "                                descriptionNonePunct  \\\n",
       "0  The journey to Arunachal North East India begi...   \n",
       "1  DISCLAIMER Please do not ride elephants when v...   \n",
       "2  I spent 11 days cruising up the coast of Alask...   \n",
       "3  BLACK FRIDAY DROP Out Now httpseekdiscomfortco...   \n",
       "4  Here’s presenting the first part of the Bhutan...   \n",
       "\n",
       "                                descriptionTokenized  \\\n",
       "0  [The, journey, to, Arunachal, North, East, Ind...   \n",
       "1  [DISCLAIMER, Please, do, not, ride, elephants,...   \n",
       "2  [I, spent, 11, days, cruising, up, the, coast,...   \n",
       "3  [BLACK, FRIDAY, DROP, Out, Now, httpseekdiscom...   \n",
       "4  [Here, ’, s, presenting, the, first, part, of,...   \n",
       "\n",
       "                                   descriptionNoneSW  \\\n",
       "0  [The, journey, Arunachal, North, East, India, ...   \n",
       "1  [DISCLAIMER, Please, ride, elephants, visiting...   \n",
       "2  [I, spent, 11, days, cruising, coast, Alaska, ...   \n",
       "3  [BLACK, FRIDAY, DROP, Out, Now, httpseekdiscom...   \n",
       "4  [Here, ’, presenting, first, part, Bhutan, Ser...   \n",
       "\n",
       "                                        textSequence  \n",
       "0  [12, 282, 4080, 278, 257, 27, 2471, 732, 282, ...  \n",
       "1  [841, 26, 1429, 2728, 629, 174, 493, 28, 4, 78...  \n",
       "2  [4, 589, 734, 238, 6621, 1650, 1774, 1651, 101...  \n",
       "3  [511, 1775, 1431, 1043, 240, 5039, 22, 184, 13...  \n",
       "4  [126, 20, 605, 37, 124, 4082, 151, 180, 4083, ...  "
      ]
     },
     "execution_count": 159,
     "metadata": {},
     "output_type": "execute_result"
    }
   ],
   "source": [
    "data.head()"
   ]
  },
  {
   "cell_type": "markdown",
   "metadata": {},
   "source": [
    "### 4) Model Building"
   ]
  },
  {
   "cell_type": "code",
   "execution_count": 160,
   "metadata": {},
   "outputs": [
    {
     "data": {
      "text/plain": [
       "42"
      ]
     },
     "execution_count": 160,
     "metadata": {},
     "output_type": "execute_result"
    }
   ],
   "source": [
    "input_shape = int(sum(data['textSequence'].apply(lambda x:len(x)/len(data['textSequence']))))\n",
    "input_shape"
   ]
  },
  {
   "cell_type": "code",
   "execution_count": 161,
   "metadata": {},
   "outputs": [
    {
     "data": {
      "text/plain": [
       "array([[    0,     0,     0, ...,     5,     1,     2],\n",
       "       [    0,     0,     0, ...,   959,     1,     2],\n",
       "       [    0,     0,     0, ..., 10116,     1,     2],\n",
       "       ...,\n",
       "       [    0,     0,     0, ..., 22730,     1,     2],\n",
       "       [    0,     0,     0, ..., 22731,     1,     2],\n",
       "       [    0,     0,     0, ...,   262,     1,     2]])"
      ]
     },
     "execution_count": 161,
     "metadata": {},
     "output_type": "execute_result"
    }
   ],
   "source": [
    "from keras.preprocessing.sequence import pad_sequences\n",
    "X = pad_sequences(data['textSequence'],maxlen=45)\n",
    "X"
   ]
  },
  {
   "cell_type": "code",
   "execution_count": 162,
   "metadata": {},
   "outputs": [],
   "source": [
    "y = data['category']"
   ]
  },
  {
   "cell_type": "code",
   "execution_count": 163,
   "metadata": {},
   "outputs": [
    {
     "data": {
      "text/plain": [
       "array([3, 3, 3, ..., 2, 2, 2])"
      ]
     },
     "execution_count": 163,
     "metadata": {},
     "output_type": "execute_result"
    }
   ],
   "source": [
    "y_encoder = LabelEncoder()\n",
    "y = y_encoder.fit_transform(y)\n",
    "y"
   ]
  },
  {
   "cell_type": "markdown",
   "metadata": {},
   "source": [
    "##### Spliting the data"
   ]
  },
  {
   "cell_type": "code",
   "execution_count": 164,
   "metadata": {},
   "outputs": [],
   "source": [
    "X_train , X_test , y_train , y_test = train_test_split(X,y ,test_size = 0.2 , random_state=42)"
   ]
  },
  {
   "cell_type": "code",
   "execution_count": 165,
   "metadata": {},
   "outputs": [
    {
     "data": {
      "text/plain": [
       "((2879, 45), (720, 45), (2879,), (720,))"
      ]
     },
     "execution_count": 165,
     "metadata": {},
     "output_type": "execute_result"
    }
   ],
   "source": [
    "X_train.shape ,X_test.shape, y_train.shape , y_test.shape"
   ]
  },
  {
   "cell_type": "code",
   "execution_count": 166,
   "metadata": {},
   "outputs": [],
   "source": [
    "# getting vocabulary len\n",
    "maxWords=(max(map(max, X)))+1"
   ]
  },
  {
   "cell_type": "code",
   "execution_count": 167,
   "metadata": {},
   "outputs": [],
   "source": [
    "model = keras.models.Sequential([\n",
    "    keras.layers.Embedding(maxWords , 64 , input_shape=[input_shape]),\n",
    "    keras.layers.GRU(32),\n",
    "    keras.layers.Dense(4 , activation='softmax')\n",
    "])"
   ]
  },
  {
   "cell_type": "markdown",
   "metadata": {},
   "source": [
    "##### Plotting Model"
   ]
  },
  {
   "cell_type": "code",
   "execution_count": 168,
   "metadata": {},
   "outputs": [],
   "source": [
    "# from tensorflow.keras.utils import plot_model\n",
    "# plot_model(model , show_shapes=True)"
   ]
  },
  {
   "cell_type": "markdown",
   "metadata": {},
   "source": [
    "##### Compiling the model"
   ]
  },
  {
   "cell_type": "code",
   "execution_count": 169,
   "metadata": {},
   "outputs": [],
   "source": [
    "model.compile(loss='sparse_categorical_crossentropy' , optimizer='adam' , metrics='accuracy')"
   ]
  },
  {
   "cell_type": "code",
   "execution_count": 170,
   "metadata": {},
   "outputs": [
    {
     "name": "stdout",
     "output_type": "stream",
     "text": [
      "Epoch 1/25\n",
      "WARNING:tensorflow:Model was constructed with shape (None, 42) for input KerasTensor(type_spec=TensorSpec(shape=(None, 42), dtype=tf.float32, name='embedding_2_input'), name='embedding_2_input', description=\"created by layer 'embedding_2_input'\"), but it was called on an input with incompatible shape (None, 45).\n",
      "WARNING:tensorflow:Model was constructed with shape (None, 42) for input KerasTensor(type_spec=TensorSpec(shape=(None, 42), dtype=tf.float32, name='embedding_2_input'), name='embedding_2_input', description=\"created by layer 'embedding_2_input'\"), but it was called on an input with incompatible shape (None, 45).\n",
      "72/72 [==============================] - ETA: 0s - loss: 1.3423 - accuracy: 0.3556WARNING:tensorflow:Model was constructed with shape (None, 42) for input KerasTensor(type_spec=TensorSpec(shape=(None, 42), dtype=tf.float32, name='embedding_2_input'), name='embedding_2_input', description=\"created by layer 'embedding_2_input'\"), but it was called on an input with incompatible shape (32, 45).\n",
      "72/72 [==============================] - 3s 27ms/step - loss: 1.3423 - accuracy: 0.3556 - val_loss: 1.2883 - val_accuracy: 0.4601\n",
      "Epoch 2/25\n",
      "72/72 [==============================] - 2s 23ms/step - loss: 0.8873 - accuracy: 0.6374 - val_loss: 0.7819 - val_accuracy: 0.6788\n",
      "Epoch 3/25\n",
      "72/72 [==============================] - 2s 24ms/step - loss: 0.4516 - accuracy: 0.8476 - val_loss: 0.5547 - val_accuracy: 0.8021\n",
      "Epoch 4/25\n",
      "72/72 [==============================] - 2s 22ms/step - loss: 0.2407 - accuracy: 0.9210 - val_loss: 0.6018 - val_accuracy: 0.8090\n",
      "Epoch 5/25\n",
      "72/72 [==============================] - 2s 22ms/step - loss: 0.1684 - accuracy: 0.9422 - val_loss: 0.6042 - val_accuracy: 0.8038\n",
      "Epoch 6/25\n",
      "72/72 [==============================] - 2s 22ms/step - loss: 0.1448 - accuracy: 0.9422 - val_loss: 0.6606 - val_accuracy: 0.8021\n",
      "Epoch 7/25\n",
      "72/72 [==============================] - 2s 22ms/step - loss: 0.1315 - accuracy: 0.9509 - val_loss: 0.6648 - val_accuracy: 0.8003\n",
      "Epoch 8/25\n",
      "72/72 [==============================] - 2s 22ms/step - loss: 0.1304 - accuracy: 0.9488 - val_loss: 0.6830 - val_accuracy: 0.7969\n",
      "Epoch 9/25\n",
      "72/72 [==============================] - 2s 22ms/step - loss: 0.1198 - accuracy: 0.9514 - val_loss: 0.7220 - val_accuracy: 0.8090\n",
      "Epoch 10/25\n",
      "72/72 [==============================] - 2s 22ms/step - loss: 0.1132 - accuracy: 0.9553 - val_loss: 0.7080 - val_accuracy: 0.8125\n",
      "Epoch 11/25\n",
      "72/72 [==============================] - 2s 22ms/step - loss: 0.1091 - accuracy: 0.9553 - val_loss: 0.7314 - val_accuracy: 0.8108\n",
      "Epoch 12/25\n",
      "72/72 [==============================] - 2s 22ms/step - loss: 0.1091 - accuracy: 0.9527 - val_loss: 0.7849 - val_accuracy: 0.8021\n",
      "Epoch 13/25\n",
      "72/72 [==============================] - 2s 22ms/step - loss: 0.1070 - accuracy: 0.9579 - val_loss: 0.7744 - val_accuracy: 0.8038\n",
      "Epoch 14/25\n",
      "72/72 [==============================] - 2s 22ms/step - loss: 0.1080 - accuracy: 0.9574 - val_loss: 0.7691 - val_accuracy: 0.8073\n",
      "Epoch 15/25\n",
      "72/72 [==============================] - 2s 23ms/step - loss: 0.1038 - accuracy: 0.9561 - val_loss: 0.7757 - val_accuracy: 0.8073\n",
      "Epoch 16/25\n",
      "72/72 [==============================] - 2s 25ms/step - loss: 0.1052 - accuracy: 0.9548 - val_loss: 0.8215 - val_accuracy: 0.7934\n",
      "Epoch 17/25\n",
      "72/72 [==============================] - 2s 24ms/step - loss: 0.1042 - accuracy: 0.9561 - val_loss: 0.8035 - val_accuracy: 0.8003\n",
      "Epoch 18/25\n",
      "72/72 [==============================] - 2s 24ms/step - loss: 0.1028 - accuracy: 0.9557 - val_loss: 0.8146 - val_accuracy: 0.7951\n",
      "Epoch 19/25\n",
      "72/72 [==============================] - 2s 24ms/step - loss: 0.1030 - accuracy: 0.9583 - val_loss: 0.8384 - val_accuracy: 0.8038\n",
      "Epoch 20/25\n",
      "72/72 [==============================] - 2s 24ms/step - loss: 0.1052 - accuracy: 0.9535 - val_loss: 0.8240 - val_accuracy: 0.7934\n",
      "Epoch 21/25\n",
      "72/72 [==============================] - 2s 24ms/step - loss: 0.0997 - accuracy: 0.9574 - val_loss: 0.8300 - val_accuracy: 0.8038\n",
      "Epoch 22/25\n",
      "72/72 [==============================] - 2s 24ms/step - loss: 0.1037 - accuracy: 0.9557 - val_loss: 0.8153 - val_accuracy: 0.8090\n",
      "Epoch 23/25\n",
      "72/72 [==============================] - 2s 24ms/step - loss: 0.1028 - accuracy: 0.9553 - val_loss: 0.7901 - val_accuracy: 0.8090\n",
      "Epoch 24/25\n",
      "72/72 [==============================] - 2s 24ms/step - loss: 0.0995 - accuracy: 0.9570 - val_loss: 0.8442 - val_accuracy: 0.8056\n",
      "Epoch 25/25\n",
      "72/72 [==============================] - 2s 24ms/step - loss: 0.0998 - accuracy: 0.9557 - val_loss: 0.8357 - val_accuracy: 0.8021\n"
     ]
    }
   ],
   "source": [
    "history = model.fit(X_train , y_train , epochs=25 , batch_size=32 , validation_split= 0.2)"
   ]
  },
  {
   "cell_type": "code",
   "execution_count": 171,
   "metadata": {},
   "outputs": [
    {
     "data": {
      "text/plain": [
       "(0, 1)"
      ]
     },
     "execution_count": 171,
     "metadata": {},
     "output_type": "execute_result"
    },
    {
     "data": {
      "image/png": "[encoded data removed]",
      "text/plain": [
       "<Figure size 864x576 with 1 Axes>"
      ]
     },
     "metadata": {
      "needs_background": "light"
     },
     "output_type": "display_data"
    }
   ],
   "source": [
    "pd.DataFrame(history.history).plot(figsize=(12,8))\n",
    "plt.grid(True)\n",
    "# set vertical range between 0 , 1\n",
    "plt.gca().set_ylim(0,1)"
   ]
  },
  {
   "cell_type": "code",
   "execution_count": 172,
   "metadata": {},
   "outputs": [
    {
     "name": "stdout",
     "output_type": "stream",
     "text": [
      "WARNING:tensorflow:Model was constructed with shape (None, 42) for input KerasTensor(type_spec=TensorSpec(shape=(None, 42), dtype=tf.float32, name='embedding_2_input'), name='embedding_2_input', description=\"created by layer 'embedding_2_input'\"), but it was called on an input with incompatible shape (None, 45).\n",
      "23/23 [==============================] - 0s 4ms/step - loss: 0.7259 - accuracy: 0.8083\n"
     ]
    }
   ],
   "source": [
    "model_evaluated = model.evaluate(X_test , y_test)"
   ]
  },
  {
   "cell_type": "code",
   "execution_count": 173,
   "metadata": {},
   "outputs": [
    {
     "name": "stdout",
     "output_type": "stream",
     "text": [
      "Model evaluated Loss is 0.7259371280670166\n",
      "Model evaluated accuracy is 0.8083333373069763\n"
     ]
    }
   ],
   "source": [
    "print(f'Model evaluated Loss is {model_evaluated[0]}')\n",
    "print(f'Model evaluated accuracy is {model_evaluated[1]}')"
   ]
  },
  {
   "cell_type": "markdown",
   "metadata": {},
   "source": [
    "##### Confusion Matrix and Classification Report "
   ]
  },
  {
   "cell_type": "code",
   "execution_count": 174,
   "metadata": {},
   "outputs": [
    {
     "name": "stdout",
     "output_type": "stream",
     "text": [
      "WARNING:tensorflow:Model was constructed with shape (None, 42) for input KerasTensor(type_spec=TensorSpec(shape=(None, 42), dtype=tf.float32, name='embedding_2_input'), name='embedding_2_input', description=\"created by layer 'embedding_2_input'\"), but it was called on an input with incompatible shape (None, 45).\n",
      "Classification report : \n",
      "               precision    recall  f1-score   support\n",
      "\n",
      "   art_music       0.78      0.85      0.81       170\n",
      "        food       0.71      0.90      0.79       174\n",
      "     history       0.85      0.79      0.82       119\n",
      "      travel       0.91      0.73      0.81       257\n",
      "\n",
      "    accuracy                           0.81       720\n",
      "   macro avg       0.81      0.82      0.81       720\n",
      "weighted avg       0.82      0.81      0.81       720\n",
      "\n"
     ]
    }
   ],
   "source": [
    "y_pred = (model.predict(X_test).argmax(axis=-1)).tolist()\n",
    "class_names = y_encoder.classes_\n",
    "print(\"Classification report : \\n\",classification_report(y_test, y_pred, target_names = class_names))"
   ]
  },
  {
   "cell_type": "code",
   "execution_count": 175,
   "metadata": {},
   "outputs": [],
   "source": [
    "def drawConfusionMatrix(true, preds, normalize=None):\n",
    "  confusionMatrix = confusion_matrix(true, preds, normalize = normalize)\n",
    "  confusionMatrix = np.round(confusionMatrix, 2)\n",
    "  sns.heatmap(confusionMatrix, annot=True, annot_kws={\"size\": 12},fmt=\"g\", cbar=False, cmap=\"viridis\")\n",
    "  plt.show()"
   ]
  },
  {
   "cell_type": "code",
   "execution_count": 176,
   "metadata": {},
   "outputs": [
    {
     "name": "stdout",
     "output_type": "stream",
     "text": [
      "Confusion matrix : \n",
      "\n"
     ]
    },
    {
     "data": {
      "image/png": "[encoded data removed]",
      "text/plain": [
       "<Figure size 432x288 with 1 Axes>"
      ]
     },
     "metadata": {
      "needs_background": "light"
     },
     "output_type": "display_data"
    },
    {
     "name": "stdout",
     "output_type": "stream",
     "text": [
      "Normalized confusion matrix : \n",
      "\n"
     ]
    },
    {
     "data": {
      "image/png": "[encoded data removed]",
      "text/plain": [
       "<Figure size 432x288 with 1 Axes>"
      ]
     },
     "metadata": {
      "needs_background": "light"
     },
     "output_type": "display_data"
    }
   ],
   "source": [
    "print(\"Confusion matrix : \\n\")\n",
    "drawConfusionMatrix(y_test, y_pred)\n",
    "print(\"Normalized confusion matrix : \\n\")\n",
    "drawConfusionMatrix(y_test, y_pred,\"true\")"
   ]
  },
  {
   "cell_type": "code",
   "execution_count": null,
   "metadata": {},
   "outputs": [],
   "source": []
  },
  {
   "cell_type": "code",
   "execution_count": null,
   "metadata": {},
   "outputs": [],
   "source": []
  }
 ],
 "metadata": {
  "kernelspec": {
   "display_name": "Python 3",
   "language": "python",
   "name": "python3"
  },
  "language_info": {
   "codemirror_mode": {
    "name": "ipython",
    "version": 3
   },
   "file_extension": ".py",
   "mimetype": "text/x-python",
   "name": "python",
   "nbconvert_exporter": "python",
   "pygments_lexer": "ipython3",
   "version": "3.7.6"
  }
 },
 "nbformat": 4,
 "nbformat_minor": 4
}
